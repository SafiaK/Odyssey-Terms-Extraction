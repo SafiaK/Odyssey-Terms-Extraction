{
 "cells": [
  {
   "cell_type": "code",
   "execution_count": 1,
   "metadata": {},
   "outputs": [],
   "source": [
    "import os\n",
    "os.chdir('..')\n",
    "notebook_dir = os.getcwd()"
   ]
  },
  {
   "cell_type": "code",
   "execution_count": 1,
   "metadata": {},
   "outputs": [],
   "source": [
    "import pandas as pd\n",
    "df = pd.read_csv(r'/Users/apple/Documents/Swansea/Projects/Annotations/AnnotationTool1/NeedToWork/remaining_With_Section_And_result_with_keyPhrases_expanded_legit.csv')"
   ]
  },
  {
   "cell_type": "code",
   "execution_count": 15,
   "metadata": {},
   "outputs": [
    {
     "data": {
      "text/html": [
       "<div>\n",
       "<style scoped>\n",
       "    .dataframe tbody tr th:only-of-type {\n",
       "        vertical-align: middle;\n",
       "    }\n",
       "\n",
       "    .dataframe tbody tr th {\n",
       "        vertical-align: top;\n",
       "    }\n",
       "\n",
       "    .dataframe thead th {\n",
       "        text-align: right;\n",
       "    }\n",
       "</style>\n",
       "<table border=\"1\" class=\"dataframe\">\n",
       "  <thead>\n",
       "    <tr style=\"text-align: right;\">\n",
       "      <th></th>\n",
       "      <th>Unnamed: 0</th>\n",
       "      <th>url</th>\n",
       "      <th>para_id</th>\n",
       "      <th>paragraphs</th>\n",
       "      <th>case_term_phrases</th>\n",
       "      <th>legislation_id</th>\n",
       "      <th>section_text</th>\n",
       "      <th>case_term</th>\n",
       "      <th>legislation_term</th>\n",
       "      <th>confidence</th>\n",
       "      <th>reasoning</th>\n",
       "      <th>key_phrases</th>\n",
       "      <th>standardized_act_id</th>\n",
       "    </tr>\n",
       "  </thead>\n",
       "  <tbody>\n",
       "    <tr>\n",
       "      <th>0</th>\n",
       "      <td>1</td>\n",
       "      <td>https://caselaw.nationalarchives.gov.uk/ewhc/f...</td>\n",
       "      <td>para_124</td>\n",
       "      <td>\\n\\t   \\n\\t 124. \\n\\t   \\n\\t     \\n\\t \\n\\t    ...</td>\n",
       "      <td>['no application for an order under this Act o...</td>\n",
       "      <td>1989/41_91/14</td>\n",
       "      <td>91A Section 91(14) orders: further provision (...</td>\n",
       "      <td>Section 91(14) Children Act 1989 order</td>\n",
       "      <td>section 91(14) orders: further provision (1) T...</td>\n",
       "      <td>High</td>\n",
       "      <td>The case law term directly references the spec...</td>\n",
       "      <td>section 91(14) orders</td>\n",
       "      <td>1989/41_section_91</td>\n",
       "    </tr>\n",
       "  </tbody>\n",
       "</table>\n",
       "</div>"
      ],
      "text/plain": [
       "   Unnamed: 0                                                url   para_id  \\\n",
       "0           1  https://caselaw.nationalarchives.gov.uk/ewhc/f...  para_124   \n",
       "\n",
       "                                          paragraphs  \\\n",
       "0  \\n\\t   \\n\\t 124. \\n\\t   \\n\\t     \\n\\t \\n\\t    ...   \n",
       "\n",
       "                                   case_term_phrases legislation_id  \\\n",
       "0  ['no application for an order under this Act o...  1989/41_91/14   \n",
       "\n",
       "                                        section_text  \\\n",
       "0  91A Section 91(14) orders: further provision (...   \n",
       "\n",
       "                                case_term  \\\n",
       "0  Section 91(14) Children Act 1989 order   \n",
       "\n",
       "                                    legislation_term confidence  \\\n",
       "0  section 91(14) orders: further provision (1) T...       High   \n",
       "\n",
       "                                           reasoning            key_phrases  \\\n",
       "0  The case law term directly references the spec...  section 91(14) orders   \n",
       "\n",
       "  standardized_act_id  \n",
       "0  1989/41_section_91  "
      ]
     },
     "execution_count": 15,
     "metadata": {},
     "output_type": "execute_result"
    }
   ],
   "source": [
    "df.head(1)"
   ]
  },
  {
   "cell_type": "code",
   "execution_count": 16,
   "metadata": {},
   "outputs": [
    {
     "data": {
      "text/plain": [
       "686"
      ]
     },
     "execution_count": 16,
     "metadata": {},
     "output_type": "execute_result"
    }
   ],
   "source": [
    "len(df)"
   ]
  },
  {
   "cell_type": "code",
   "execution_count": 17,
   "metadata": {},
   "outputs": [],
   "source": [
    "import util\n",
    "df['notStopWord'] = df['key_phrases'].apply(lambda x: util.is_all_stopwords(x, 'legal_stop_words.txt'))\n",
    "\n"
   ]
  },
  {
   "cell_type": "code",
   "execution_count": 2,
   "metadata": {},
   "outputs": [],
   "source": [
    "def checkIfPhraseInText(phrase,text):\n",
    "        try:\n",
    "            if phrase in text:\n",
    "                return True\n",
    "            else:\n",
    "                return False\n",
    "        except:\n",
    "            return False"
   ]
  },
  {
   "cell_type": "code",
   "execution_count": 3,
   "metadata": {},
   "outputs": [
    {
     "data": {
      "text/plain": [
       "Index(['Unnamed: 0.1', 'Unnamed: 0', 'url', 'para_id', 'paragraphs',\n",
       "       'case_term_phrases', 'legislation_id', 'section_text', 'case_term',\n",
       "       'legislation_term', 'confidence', 'reasoning', 'key_phrases',\n",
       "       'standardized_act_id', 'notStopWord'],\n",
       "      dtype='object')"
      ]
     },
     "execution_count": 3,
     "metadata": {},
     "output_type": "execute_result"
    }
   ],
   "source": [
    "df.columns"
   ]
  },
  {
   "cell_type": "code",
   "execution_count": 4,
   "metadata": {},
   "outputs": [],
   "source": [
    "df['in_case_text'] = df.apply(\n",
    "        lambda row: checkIfPhraseInText(row['case_term'], row['paragraphs']),axis=1)"
   ]
  },
  {
   "cell_type": "code",
   "execution_count": 5,
   "metadata": {},
   "outputs": [],
   "source": [
    "df = df[df['in_case_text']==True]\n",
    "df.drop(columns=['in_case_text'], inplace=True)"
   ]
  },
  {
   "cell_type": "code",
   "execution_count": 18,
   "metadata": {},
   "outputs": [],
   "source": [
    "df = df[df['notStopWord'] == False]"
   ]
  },
  {
   "cell_type": "code",
   "execution_count": 6,
   "metadata": {},
   "outputs": [
    {
     "data": {
      "text/plain": [
       "382"
      ]
     },
     "execution_count": 6,
     "metadata": {},
     "output_type": "execute_result"
    }
   ],
   "source": [
    "len(df)"
   ]
  },
  {
   "cell_type": "code",
   "execution_count": 7,
   "metadata": {},
   "outputs": [],
   "source": [
    "df.to_csv(r'/Users/apple/Documents/Swansea/Projects/Annotations/AnnotationTool1/NeedToWork/remaining_With_Section_And_result_with_keyPhrases_expanded_legit.csv')"
   ]
  }
 ],
 "metadata": {
  "kernelspec": {
   "display_name": "ETPADV",
   "language": "python",
   "name": "python3"
  },
  "language_info": {
   "codemirror_mode": {
    "name": "ipython",
    "version": 3
   },
   "file_extension": ".py",
   "mimetype": "text/x-python",
   "name": "python",
   "nbconvert_exporter": "python",
   "pygments_lexer": "ipython3",
   "version": "3.11.9"
  }
 },
 "nbformat": 4,
 "nbformat_minor": 2
}
